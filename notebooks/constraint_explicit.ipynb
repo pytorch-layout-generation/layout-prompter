{
 "cells": [
  {
   "cell_type": "code",
   "execution_count": 1,
   "metadata": {},
   "outputs": [],
   "source": [
    "%load_ext autoreload\n",
    "%autoreload 2"
   ]
  },
  {
   "cell_type": "markdown",
   "metadata": {},
   "source": [
    "# General configurations"
   ]
  },
  {
   "cell_type": "code",
   "execution_count": 2,
   "metadata": {},
   "outputs": [],
   "source": [
    "from layout_prompter.dataset_configs import RicoDatasetConfig, PubLayNetDatasetConfig\n",
    "\n",
    "dataset_configss = [RicoDatasetConfig(), PubLayNetDatasetConfig()] # choices\n",
    "tasks = [\"gen-t\", \"gen-ts\", \"gen-r\", \"completion\", \"refinement\"]\n",
    "\n",
    "dataset_config = dataset_configss[0]\n",
    "task = tasks[0]\n",
    "\n",
    "input_format = \"seq\"\n",
    "output_format = \"html\"\n",
    "add_unk_token = False\n",
    "add_index_token = True\n",
    "add_sep_token = True\n",
    "candidate_size = -1  # -1 represents the complete training set\n",
    "num_prompt = 10"
   ]
  },
  {
   "cell_type": "markdown",
   "metadata": {},
   "source": [
    "# Process raw data"
   ]
  },
  {
   "cell_type": "code",
   "execution_count": 3,
   "metadata": {},
   "outputs": [],
   "source": [
    "import os\n",
    "\n",
    "from layout_prompter.preprocessors import create_processor\n",
    "from layout_prompter.utils import get_raw_data_path, read_pt, write_pt\n",
    "from tqdm import tqdm\n",
    "\n",
    "\n",
    "processor = create_processor(dataset_config=dataset_config, task=task)\n",
    "base_dir = os.path.dirname(os.getcwd())\n",
    "\n",
    "\n",
    "def get_processed_dataset(split):\n",
    "    filename = os.path.join(\n",
    "        base_dir, \"dataset\", dataset_config.name, \"processed\", task, f\"{split}.pt\"\n",
    "    )\n",
    "    if os.path.exists(filename):\n",
    "        processed_data = read_pt(filename)\n",
    "    else:\n",
    "        processed_data = []\n",
    "        os.makedirs(os.path.dirname(filename), exist_ok=True)\n",
    "        raw_path = os.path.join(get_raw_data_path(dataset), f\"{split}.pt\")\n",
    "        raw_data = read_pt(raw_path)\n",
    "        for rd in tqdm(raw_data, desc=f\"{split} data processing...\"):\n",
    "            processed_data.append(processor(rd))\n",
    "        write_pt(filename, processed_data)\n",
    "    return processed_data\n",
    "\n",
    "\n",
    "processed_train_dataset = get_processed_dataset(\"train\")\n",
    "processed_val_dataset = get_processed_dataset(\"val\")\n",
    "processed_test_dataset = get_processed_dataset(\"test\")"
   ]
  },
  {
   "cell_type": "markdown",
   "metadata": {},
   "source": [
    "# Get target test data"
   ]
  },
  {
   "cell_type": "code",
   "execution_count": 4,
   "metadata": {},
   "outputs": [],
   "source": [
    "test_idx = 0\n",
    "test_data = processed_test_dataset[test_idx]"
   ]
  },
  {
   "cell_type": "markdown",
   "metadata": {},
   "source": [
    "# Define dynamic exemplar selector"
   ]
  },
  {
   "cell_type": "code",
   "execution_count": 5,
   "metadata": {},
   "outputs": [],
   "source": [
    "from layout_prompter.modules import create_selector\n",
    "\n",
    "\n",
    "selector = create_selector(\n",
    "    task=task,\n",
    "    train_dataset=processed_train_dataset,\n",
    "    candidate_size=candidate_size,\n",
    "    num_prompt=num_prompt,\n",
    ")"
   ]
  },
  {
   "cell_type": "markdown",
   "metadata": {},
   "source": [
    "# Define input-output serializer"
   ]
  },
  {
   "cell_type": "code",
   "execution_count": 6,
   "metadata": {},
   "outputs": [],
   "source": [
    "from layout_prompter.modules import create_serializer\n",
    "\n",
    "\n",
    "serializer = create_serializer(\n",
    "    dataset_config=dataset_config,\n",
    "    task=task,\n",
    "    input_format=input_format,\n",
    "    output_format=output_format,\n",
    "    add_index_token=add_index_token,\n",
    "    add_sep_token=add_sep_token,\n",
    "    add_unk_token=add_unk_token\n",
    ")"
   ]
  },
  {
   "cell_type": "markdown",
   "metadata": {},
   "source": [
    "# Define GPT callar"
   ]
  },
  {
   "cell_type": "code",
   "execution_count": 7,
   "metadata": {},
   "outputs": [],
   "source": [
    "from layout_prompter.parsers import GPTResponseParser\n",
    "from layout_prompter.modules import GPTCallar\n",
    "\n",
    "model = \"gpt-4\"\n",
    "max_tokens = 800\n",
    "temperature = 0.7\n",
    "top_p = 1\n",
    "frequency_penalty = 0.0\n",
    "presence_penalty = 0.0\n",
    "num_return = 10\n",
    "stop_token = \"\\n\\n\"\n",
    "\n",
    "assert os.environ.get(\"OPENAI_API_KEY\") is not None\n",
    "\n",
    "parser = GPTResponseParser(\n",
    "    dataset_config=dataset_config, \n",
    "    output_format=output_format\n",
    ")\n",
    "\n",
    "llm = GPTCallar(\n",
    "    parser=parser, \n",
    "    model=model, \n",
    "    max_tokens=max_tokens, \n",
    "    temperature=temperature,\n",
    "    top_p=top_p,\n",
    "    frequency_penalty=frequency_penalty,\n",
    "    presence_penalty=presence_penalty,\n",
    "    num_return=num_return,\n",
    "    stop_token=stop_token,\n",
    ")"
   ]
  },
  {
   "cell_type": "markdown",
   "metadata": {},
   "source": [
    "# Define ranker"
   ]
  },
  {
   "cell_type": "code",
   "execution_count": 8,
   "metadata": {},
   "outputs": [],
   "source": [
    "from layout_prompter.modules import Ranker\n",
    "\n",
    "\n",
    "ranker = Ranker(val_dataset=processed_val_dataset)"
   ]
  },
  {
   "cell_type": "markdown",
   "metadata": {},
   "source": [
    "# Define LayoutPrompter pipeline"
   ]
  },
  {
   "cell_type": "code",
   "execution_count": 9,
   "metadata": {},
   "outputs": [],
   "source": [
    "from layout_prompter import LayoutPrompter\n",
    "\n",
    "\n",
    "pipeline = LayoutPrompter(\n",
    "    serializer=serializer, \n",
    "    selector=selector, \n",
    "    llm=llm, \n",
    "    ranker=ranker,\n",
    ")"
   ]
  },
  {
   "cell_type": "markdown",
   "metadata": {},
   "source": [
    "# Generate layouts"
   ]
  },
  {
   "cell_type": "code",
   "execution_count": 10,
   "metadata": {},
   "outputs": [],
   "source": [
    "exemplars = pipeline.get_exemplars(test_data=test_data)\n",
    "\n",
    "# (1) Build prompt based on the exemplars\n",
    "# (2) Generate layouts using LLM\n",
    "# (3) Re-rank the generated results\n",
    "ranked_response = pipeline(\n",
    "    test_data=test_data, exemplars=exemplars\n",
    ")"
   ]
  },
  {
   "cell_type": "markdown",
   "metadata": {},
   "source": [
    "# Visualize the layouts"
   ]
  },
  {
   "cell_type": "code",
   "execution_count": 11,
   "metadata": {},
   "outputs": [
    {
     "data": {
      "image/jpeg": "[encoded data removed]",
      "image/png": "[encoded data removed]",
      "text/plain": [
       "<PIL.Image.Image image mode=RGB size=486x338>"
      ]
     },
     "execution_count": 11,
     "metadata": {},
     "output_type": "execute_result"
    }
   ],
   "source": [
    "from layout_prompter.visualizers import Visualizer, create_image_grid\n",
    "\n",
    "\n",
    "visualizer = Visualizer(dataset_config=dataset_config)\n",
    "images = visualizer(ranked_response)\n",
    "\n",
    "create_image_grid(images)"
   ]
  }
 ],
 "metadata": {
  "kernelspec": {
   "display_name": "Python 3 (ipykernel)",
   "language": "python",
   "name": "python3"
  },
  "language_info": {
   "codemirror_mode": {
    "name": "ipython",
    "version": 3
   },
   "file_extension": ".py",
   "mimetype": "text/x-python",
   "name": "python",
   "nbconvert_exporter": "python",
   "pygments_lexer": "ipython3",
   "version": "3.9.16"
  }
 },
 "nbformat": 4,
 "nbformat_minor": 4
}
